{
  "nbformat": 4,
  "nbformat_minor": 0,
  "metadata": {
    "colab": {
      "provenance": []
    },
    "kernelspec": {
      "name": "python3",
      "display_name": "Python 3"
    },
    "language_info": {
      "name": "python"
    },
    "accelerator": "GPU",
    "gpuClass": "standard"
  },
  "cells": [
    {
      "cell_type": "markdown",
      "source": [
        "# Assignment 5: LSTM Sentence Completion\n",
        "## Deep Learning: Mastering Neural Networks\n",
        "\n",
        "**Author:** Rodolfo Lerma\n",
        "\n",
        "# Introduction\n",
        "\n",
        "Now that we have a framework for working with sequential data in PyTorch - we would like to improve our sentence completion model by introducing a more sophisticated dataset encoding and neural network architecture.\n",
        "\n",
        "In this assignment, we would like you to implement an LSTM model that contains 2 hidden layers and completes sentences at a word level encoding instead of character. We will provide code for cleaning and preparing the data as well as some helper functions so that you can complete the task.\n",
        "\n",
        "Note: This LSTM can take a long time to train. Try using a small number of epochs or a small dataset(~10 samples) to verify your network can train properly before using the full dataset and a larger number of Epochs!"
      ],
      "metadata": {
        "id": "aZVJ8gUn1RR9"
      }
    },
    {
      "cell_type": "markdown",
      "source": [
        "## Dataset and Encoding\n",
        "\n",
        "We will use the same dataset as the last notebook, however we will now use the spanish sentences as the targets for our sequence!"
      ],
      "metadata": {
        "id": "cu4mucQioGZA"
      }
    },
    {
      "cell_type": "code",
      "source": [
        "from io import open\n",
        "import unicodedata\n",
        "import string\n",
        "import random\n",
        "import re\n",
        "\n",
        "import torch\n",
        "import torch.nn as nn\n",
        "import numpy as np\n",
        "from torch.utils.data import Subset\n",
        "from torch.utils.data import TensorDataset, DataLoader\n",
        "import time, copy\n",
        "import matplotlib.pyplot as plt\n",
        "import sklearn.metrics as metrics\n",
        "\n",
        "device = torch.device(\"cuda\" if torch.cuda.is_available() else \"cpu\")"
      ],
      "metadata": {
        "id": "yrzZRul42zJs"
      },
      "execution_count": 1,
      "outputs": []
    },
    {
      "cell_type": "code",
      "source": [
        "# Here we download and unzip the text file that contains all of our translated phrases\n",
        "!rm spa-eng.zip _about.txt spa.txt\n",
        "!wget https://www.manythings.org/anki/spa-eng.zip\n",
        "!unzip spa-eng.zip\n",
        "!ls"
      ],
      "metadata": {
        "id": "FoRgk40z3kJk",
        "colab": {
          "base_uri": "https://localhost:8080/"
        },
        "outputId": "b3166a05-f9a5-4efc-986e-652b46a39592"
      },
      "execution_count": 2,
      "outputs": [
        {
          "output_type": "stream",
          "name": "stdout",
          "text": [
            "rm: cannot remove 'spa-eng.zip': No such file or directory\n",
            "rm: cannot remove '_about.txt': No such file or directory\n",
            "rm: cannot remove 'spa.txt': No such file or directory\n",
            "--2024-01-04 14:43:20--  https://www.manythings.org/anki/spa-eng.zip\n",
            "Resolving www.manythings.org (www.manythings.org)... 173.254.30.110\n",
            "Connecting to www.manythings.org (www.manythings.org)|173.254.30.110|:443... connected.\n",
            "HTTP request sent, awaiting response... 200 OK\n",
            "Length: 5413153 (5.2M) [application/zip]\n",
            "Saving to: ‘spa-eng.zip’\n",
            "\n",
            "spa-eng.zip         100%[===================>]   5.16M  26.9MB/s    in 0.2s    \n",
            "\n",
            "2024-01-04 14:43:20 (26.9 MB/s) - ‘spa-eng.zip’ saved [5413153/5413153]\n",
            "\n",
            "Archive:  spa-eng.zip\n",
            "  inflating: _about.txt              \n",
            "  inflating: spa.txt                 \n",
            "_about.txt  sample_data  spa-eng.zip  spa.txt\n"
          ]
        }
      ]
    },
    {
      "cell_type": "code",
      "source": [
        "# Helper functions combined from PyTorch tutorial: https://pytorch.org/tutorials/intermediate/seq2seq_translation_tutorial.html\n",
        "\n",
        "# Turn a Unicode string to plain ASCII, thanks to\n",
        "# https://stackoverflow.com/a/518232/2809427\n",
        "def unicodeToAscii(s):\n",
        "    return ''.join(\n",
        "        c for c in unicodedata.normalize('NFD', s)\n",
        "        if unicodedata.category(c) != 'Mn'\n",
        "    )\n",
        "\n",
        "# Lowercase, trim, and remove non-letter characters\n",
        "# This is important because we want all words to be formatted the same similar\n",
        "# to our image normalization\n",
        "def normalizeString(s):\n",
        "    s = unicodeToAscii(s.lower().strip())\n",
        "    s = re.sub(r\"([.!?])\", r\"\", s)\n",
        "    s = re.sub(r\"[^a-zA-Z.!'?]+\", r\" \", s)\n",
        "    return s\n",
        "\n",
        "def parse_data(filename):\n",
        "    # Read the file and split into lines\n",
        "    lines = open(filename, encoding='utf-8').read().strip().split('\\n')\n",
        "\n",
        "    # Split every line into pairs and normalize\n",
        "    pairs = [[normalizeString(s) for s in l.split('\\t')] for l in lines]\n",
        "    # Throw out the attribution as it is not a part of the data\n",
        "    pairs = [[pair[0], pair[1]] for pair in pairs]\n",
        "\n",
        "    return pairs"
      ],
      "metadata": {
        "id": "66lR-Qyl8BYs"
      },
      "execution_count": 3,
      "outputs": []
    },
    {
      "cell_type": "code",
      "source": [
        "pairs = parse_data(\"spa.txt\")\n",
        "# We only want the english sentences because we aren't translating\n",
        "english_sentences = [pair[0] for pair in pairs]\n",
        "# Shuffle our dataset\n",
        "random.shuffle(english_sentences)\n",
        "print(\"Number of English sentences:\", len(english_sentences))"
      ],
      "metadata": {
        "id": "Ti0WFHKX9-k-",
        "colab": {
          "base_uri": "https://localhost:8080/"
        },
        "outputId": "a6b77b52-6ee3-4249-818d-42ffb926ca8b"
      },
      "execution_count": 4,
      "outputs": [
        {
          "output_type": "stream",
          "name": "stdout",
          "text": [
            "Number of English sentences: 141370\n"
          ]
        }
      ]
    },
    {
      "cell_type": "code",
      "source": [
        "# Since we already shuffled our dataset, grab a random sampling of sentences for our train, val, and test\n",
        "# Here we are using a small number of Sentences to ease training time. Feel free to use more\n",
        "train_sentences = english_sentences[:1000]\n",
        "val_sentences = english_sentences[1000:2000]\n",
        "test_sentences = english_sentences[2000:3000]\n",
        "\n",
        "# Using this function we will create a dictionary to use for our one hot encoding vectors\n",
        "def add_words_to_dict(word_dictionary, word_list, sentences):\n",
        "    for sentence in sentences:\n",
        "        for word in sentence.split(\" \"):\n",
        "            if word in word_dictionary:\n",
        "                continue\n",
        "            else:\n",
        "                word_list.append(word)\n",
        "                word_dictionary[word] = len(word_list)-1\n",
        "\n",
        "english_dictionary = {}\n",
        "english_list = []\n",
        "add_words_to_dict(english_dictionary, english_list, train_sentences)\n",
        "add_words_to_dict(english_dictionary, english_list, val_sentences)\n",
        "add_words_to_dict(english_dictionary, english_list, test_sentences)"
      ],
      "metadata": {
        "id": "BngUGRRE-8P0"
      },
      "execution_count": 5,
      "outputs": []
    },
    {
      "cell_type": "markdown",
      "source": [
        "### Encoding\n",
        "\n",
        "We will encode our sequences in a very similar format to the previous tasks. However, our one-hot encoding vectors will encode over a dictionary of words instead of specific characters. This will result in a larger one hot encoding vector but a shorter overall sequence length for each sentence."
      ],
      "metadata": {
        "id": "pszv87RStebQ"
      }
    },
    {
      "cell_type": "code",
      "source": [
        "# Now make our training samples:\n",
        "def create_input_tensor(sentence, word_dictionary):\n",
        "    words = sentence.split(\" \")\n",
        "    tensor = torch.zeros(len(words), 1, len(word_dictionary)+1)\n",
        "    for idx in range(len(words)):\n",
        "        word = words[idx]\n",
        "        tensor[idx][0][word_dictionary[word]] = 1\n",
        "    return tensor\n",
        "\n",
        "def create_target_tensor(sentence, word_dictionary):\n",
        "    words = sentence.split(\" \")\n",
        "    tensor = torch.zeros(len(words), 1, len(word_dictionary)+1)\n",
        "    for idx in range(1, len(words)):\n",
        "        word = words[idx]\n",
        "        if word not in word_dictionary:\n",
        "            print(\"Error: This word is not in our dataset - using a zeros tensor\")\n",
        "            continue\n",
        "        tensor[idx-1][0][word_dictionary[word]] = 1\n",
        "    tensor[len(words)-1][0][len(word_dictionary)] = 1 # EOS\n",
        "    return tensor\n",
        "\n",
        "\n",
        "train_tensors = [(create_input_tensor(sentence, english_dictionary), create_target_tensor(sentence, english_dictionary)) for sentence in train_sentences]\n",
        "val_tensors = [(create_input_tensor(sentence, english_dictionary), create_target_tensor(sentence, english_dictionary)) for sentence in val_sentences]\n",
        "test_tensors = [(create_input_tensor(sentence, english_dictionary), create_target_tensor(sentence, english_dictionary)) for sentence in test_sentences]"
      ],
      "metadata": {
        "id": "3MLDsB9KSYvQ"
      },
      "execution_count": 6,
      "outputs": []
    },
    {
      "cell_type": "code",
      "source": [
        "def tensor_to_sentence(word_list, tensor):\n",
        "    sentence = \"\"\n",
        "    for i in range(tensor.size(0)):\n",
        "        topv, topi = tensor[i].topk(1)\n",
        "        if topi[0][0] == len(word_list):\n",
        "            sentence += \"<EOS>\"\n",
        "            break\n",
        "        sentence += word_list[topi[0][0]]\n",
        "        sentence += \" \"\n",
        "    return sentence\n",
        "\n",
        "print(\"This code helps visualize which words represent an input_tensor and its corresponding target_tensor!\")\n",
        "examples_to_show = 6\n",
        "count = 1\n",
        "for input, target in train_tensors:\n",
        "    print(tensor_to_sentence(english_list, input))\n",
        "    print(tensor_to_sentence(english_list, target))\n",
        "    count +=1\n",
        "    if count > examples_to_show:\n",
        "        break"
      ],
      "metadata": {
        "id": "AnIg_qVDQhy0",
        "colab": {
          "base_uri": "https://localhost:8080/"
        },
        "outputId": "cfe4cc32-9a61-4ce8-daba-06c77e3ea653"
      },
      "execution_count": 7,
      "outputs": [
        {
          "output_type": "stream",
          "name": "stdout",
          "text": [
            "This code helps visualize which words represent an input_tensor and its corresponding target_tensor!\n",
            "blue lines on the map designate rivers \n",
            "lines on the map designate rivers <EOS>\n",
            "i think i'll go skiing \n",
            "think i'll go skiing <EOS>\n",
            "i don't want to hear any more of your complaining \n",
            "don't want to hear any more of your complaining <EOS>\n",
            "i keep the books \n",
            "keep the books <EOS>\n",
            "i persuaded her to make herself comfortable \n",
            "persuaded her to make herself comfortable <EOS>\n",
            "is your french improving \n",
            "your french improving <EOS>\n"
          ]
        }
      ]
    },
    {
      "cell_type": "code",
      "source": [
        "# Let's look at a few sentence encodings, to see what those look like:\n",
        "for i in range(6):\n",
        "    print(train_sentences[i], \"[encode as]\", train_tensors[i][0])"
      ],
      "metadata": {
        "id": "ohr0XRAnl1Xx",
        "colab": {
          "base_uri": "https://localhost:8080/"
        },
        "outputId": "ff27eeb9-ecba-4309-b836-3ac0f48a24cc"
      },
      "execution_count": 8,
      "outputs": [
        {
          "output_type": "stream",
          "name": "stdout",
          "text": [
            "blue lines on the map designate rivers [encode as] tensor([[[1., 0., 0.,  ..., 0., 0., 0.]],\n",
            "\n",
            "        [[0., 1., 0.,  ..., 0., 0., 0.]],\n",
            "\n",
            "        [[0., 0., 1.,  ..., 0., 0., 0.]],\n",
            "\n",
            "        ...,\n",
            "\n",
            "        [[0., 0., 0.,  ..., 0., 0., 0.]],\n",
            "\n",
            "        [[0., 0., 0.,  ..., 0., 0., 0.]],\n",
            "\n",
            "        [[0., 0., 0.,  ..., 0., 0., 0.]]])\n",
            "i think i'll go skiing [encode as] tensor([[[0., 0., 0.,  ..., 0., 0., 0.]],\n",
            "\n",
            "        [[0., 0., 0.,  ..., 0., 0., 0.]],\n",
            "\n",
            "        [[0., 0., 0.,  ..., 0., 0., 0.]],\n",
            "\n",
            "        [[0., 0., 0.,  ..., 0., 0., 0.]],\n",
            "\n",
            "        [[0., 0., 0.,  ..., 0., 0., 0.]]])\n",
            "i don't want to hear any more of your complaining [encode as] tensor([[[0., 0., 0.,  ..., 0., 0., 0.]],\n",
            "\n",
            "        [[0., 0., 0.,  ..., 0., 0., 0.]],\n",
            "\n",
            "        [[0., 0., 0.,  ..., 0., 0., 0.]],\n",
            "\n",
            "        ...,\n",
            "\n",
            "        [[0., 0., 0.,  ..., 0., 0., 0.]],\n",
            "\n",
            "        [[0., 0., 0.,  ..., 0., 0., 0.]],\n",
            "\n",
            "        [[0., 0., 0.,  ..., 0., 0., 0.]]])\n",
            "i keep the books [encode as] tensor([[[0., 0., 0.,  ..., 0., 0., 0.]],\n",
            "\n",
            "        [[0., 0., 0.,  ..., 0., 0., 0.]],\n",
            "\n",
            "        [[0., 0., 0.,  ..., 0., 0., 0.]],\n",
            "\n",
            "        [[0., 0., 0.,  ..., 0., 0., 0.]]])\n",
            "i persuaded her to make herself comfortable [encode as] tensor([[[0., 0., 0.,  ..., 0., 0., 0.]],\n",
            "\n",
            "        [[0., 0., 0.,  ..., 0., 0., 0.]],\n",
            "\n",
            "        [[0., 0., 0.,  ..., 0., 0., 0.]],\n",
            "\n",
            "        ...,\n",
            "\n",
            "        [[0., 0., 0.,  ..., 0., 0., 0.]],\n",
            "\n",
            "        [[0., 0., 0.,  ..., 0., 0., 0.]],\n",
            "\n",
            "        [[0., 0., 0.,  ..., 0., 0., 0.]]])\n",
            "is your french improving [encode as] tensor([[[0., 0., 0.,  ..., 0., 0., 0.]],\n",
            "\n",
            "        [[0., 0., 0.,  ..., 0., 0., 0.]],\n",
            "\n",
            "        [[0., 0., 0.,  ..., 0., 0., 0.]],\n",
            "\n",
            "        [[0., 0., 0.,  ..., 0., 0., 0.]]])\n"
          ]
        }
      ]
    },
    {
      "cell_type": "code",
      "source": [
        "dataloaders = {'train': train_tensors,\n",
        "               'val': val_tensors,\n",
        "               'test': test_tensors}\n",
        "\n",
        "dataset_sizes = {'train': len(train_tensors),\n",
        "                 'val': len(val_tensors),\n",
        "                 'test': len(test_tensors)}\n",
        "print(f'dataset_sizes = {dataset_sizes}')"
      ],
      "metadata": {
        "id": "3SjmOheE6bcn",
        "colab": {
          "base_uri": "https://localhost:8080/"
        },
        "outputId": "aeb653c2-431b-4a53-b037-b973b56427a1"
      },
      "execution_count": 9,
      "outputs": [
        {
          "output_type": "stream",
          "name": "stdout",
          "text": [
            "dataset_sizes = {'train': 1000, 'val': 1000, 'test': 1000}\n"
          ]
        }
      ]
    },
    {
      "cell_type": "markdown",
      "source": [
        "### LSTM Definition\n",
        "\n",
        "Fill in your model in this section - a skeleton has been provided!\n"
      ],
      "metadata": {
        "id": "dKtltT2-oUuo"
      }
    },
    {
      "cell_type": "code",
      "source": [
        "# class LSTM(nn.Module):\n",
        "#     def __init__(self, input_size, hidden_size, output_size):\n",
        "#         super(LSTM, self).__init__()\n",
        "#         # TODO\n",
        "#         pass\n",
        "\n",
        "#     def forward(self, input, hidden):\n",
        "#         # TODO\n",
        "#         pass\n",
        "\n",
        "#     def initHidden(self):\n",
        "#         # We need two hidden layers because of our two layered lstm!\n",
        "#         # Your model should be able to use this implementation of initHidden()\n",
        "#         return (torch.zeros(2, self.hidden_size).to(device),\n",
        "#                 torch.zeros(2, self.hidden_size).to(device))"
      ],
      "metadata": {
        "id": "bYLj4Qvzxldp"
      },
      "execution_count": 10,
      "outputs": []
    },
    {
      "cell_type": "code",
      "source": [
        "# class LSTM(nn.Module):\n",
        "#     def __init__(self, input_size, hidden_size, output_size, num_layers=2):\n",
        "#         super(LSTM, self).__init__()\n",
        "#         self.hidden_size = hidden_size\n",
        "#         self.num_layers = num_layers\n",
        "\n",
        "#         # LSTM layer\n",
        "#         self.lstm = nn.LSTM(input_size, hidden_size, num_layers)\n",
        "\n",
        "#         # Fully connected layer\n",
        "#         self.fc = nn.Linear(hidden_size, output_size)\n",
        "\n",
        "#     def forward(self, input, hidden):\n",
        "#         # Forward propagate LSTM\n",
        "#         output, hidden = self.lstm(input, hidden)\n",
        "#         output = self.fc(output)\n",
        "\n",
        "#         return output, hidden\n",
        "\n",
        "#     def initHidden(self):\n",
        "#         # We need two hidden layers because of our two layered lstm!\n",
        "#         # Your model should be able to use this implementation of initHidden()\n",
        "#         return (torch.zeros(2, self.hidden_size).to(device),\n",
        "#                 torch.zeros(2, self.hidden_size).to(device))"
      ],
      "metadata": {
        "id": "c0LcbZVyzf08"
      },
      "execution_count": 11,
      "outputs": []
    },
    {
      "cell_type": "code",
      "source": [
        "class LSTM(nn.Module):\n",
        "    def __init__(self, input_size, hidden_size, output_size, num_layers=2, dropout_prob=0.5):\n",
        "        super(LSTM, self).__init__()\n",
        "        self.hidden_size = hidden_size\n",
        "        self.num_layers = num_layers\n",
        "\n",
        "        # LSTM layer with dropout\n",
        "        self.lstm = nn.LSTM(input_size, hidden_size, num_layers, dropout=dropout_prob)\n",
        "\n",
        "        # Fully connected layer\n",
        "        self.fc = nn.Linear(hidden_size, output_size)\n",
        "\n",
        "    def forward(self, input, hidden):\n",
        "        output, hidden = self.lstm(input, hidden)\n",
        "        output = self.fc(output)\n",
        "\n",
        "        return output, hidden\n",
        "\n",
        "    def initHidden(self):\n",
        "        # We need two hidden layers because of our two layered lstm!\n",
        "        # Your model should be able to use this implementation of initHidden()\n",
        "        return (torch.zeros(2, self.hidden_size).to(device),\n",
        "                torch.zeros(2, self.hidden_size).to(device))"
      ],
      "metadata": {
        "id": "pW831g5e7tfU"
      },
      "execution_count": 13,
      "outputs": []
    },
    {
      "cell_type": "code",
      "source": [
        "# Define the LSTM model\n",
        "input_size = len(english_dictionary) + 1\n",
        "hidden_size = 256  # You can tweak this size\n",
        "output_size = input_size\n",
        "lstm = LSTM(input_size, hidden_size, output_size, dropout_prob=0.5).to(device)"
      ],
      "metadata": {
        "id": "MUL-yfjFzde6"
      },
      "execution_count": 14,
      "outputs": []
    },
    {
      "cell_type": "code",
      "source": [
        "def train_lstm(model, dataloaders, dataset_sizes, criterion, optimizer, scheduler, num_epochs=25):\n",
        "    since = time.time()\n",
        "\n",
        "    best_model_wts = copy.deepcopy(model.state_dict()) # keep the best weights stored separately\n",
        "    best_loss = np.inf\n",
        "    best_epoch = 0\n",
        "\n",
        "    # Each epoch has a training, validation, and test phase\n",
        "    phases = ['train', 'val', 'test']\n",
        "\n",
        "    # Keep track of how loss evolves during training\n",
        "    training_curves = {}\n",
        "    for phase in phases:\n",
        "        training_curves[phase+'_loss'] = []\n",
        "\n",
        "    for epoch in range(num_epochs):\n",
        "        print(f'\\nEpoch {epoch+1}/{num_epochs}')\n",
        "        print('-' * 10)\n",
        "\n",
        "        for phase in phases:\n",
        "            if phase == 'train':\n",
        "                model.train()  # Set model to training mode\n",
        "            else:\n",
        "                model.eval()   # Set model to evaluate mode\n",
        "\n",
        "            running_loss = 0.0\n",
        "\n",
        "            # Iterate over data\n",
        "            for input_sequence, target_sequence in dataloaders[phase]:\n",
        "                # Reshape input_sequence and target_sequence for unbatched input\n",
        "                input_sequence = input_sequence.view(input_sequence.shape[0], 1, -1)\n",
        "                target_sequence = target_sequence.view(target_sequence.shape[0], 1, -1)\n",
        "\n",
        "                # Now Iterate through each sequence here:\n",
        "\n",
        "                hidden = model.initHidden() # Start with a fresh hidden state\n",
        "\n",
        "                current_input_sequence = input_sequence.to(device)\n",
        "                current_target_sequence = target_sequence.to(device)\n",
        "\n",
        "                # zero the parameter gradients\n",
        "                optimizer.zero_grad()\n",
        "\n",
        "                # forward\n",
        "                with torch.set_grad_enabled(phase == 'train'):\n",
        "                    loss = 0\n",
        "                    # Make a prediction for each element in the sequence,\n",
        "                    # keeping track of the hidden state along the way\n",
        "                    for i in range(current_input_sequence.size(0)):\n",
        "                        # Need to be clever with how we transfer our hidden layers to the device\n",
        "                        current_hidden = (hidden[0].to(device), hidden[1].to(device))\n",
        "                        output, hidden = model(current_input_sequence[i], current_hidden)\n",
        "                        l = criterion(output, current_target_sequence[i])\n",
        "                        loss += l\n",
        "\n",
        "                    # backward + update weights only if in training phase at the end of a sequence\n",
        "                    if phase == 'train':\n",
        "                        loss.backward()\n",
        "                        optimizer.step()\n",
        "\n",
        "                # statistics\n",
        "                running_loss += loss.item() / current_input_sequence.size(0)\n",
        "\n",
        "            if phase == 'train':\n",
        "                scheduler.step()\n",
        "\n",
        "            epoch_loss = running_loss / dataset_sizes[phase]\n",
        "            training_curves[phase+'_loss'].append(epoch_loss)\n",
        "\n",
        "            print(f'{phase:5} Loss: {epoch_loss:.4f}')\n",
        "\n",
        "            # deep copy the model if it's the best loss\n",
        "            # Note: We are using the train loss here to determine our best model\n",
        "            if phase == 'train' and epoch_loss < best_loss:\n",
        "              best_epoch = epoch\n",
        "              best_loss = epoch_loss\n",
        "              best_model_wts = copy.deepcopy(model.state_dict())\n",
        "\n",
        "    time_elapsed = time.time() - since\n",
        "    print(f'\\nTraining complete in {time_elapsed // 60:.0f}m {time_elapsed % 60:.0f}s')\n",
        "    print(f'Best val Loss: {best_loss:4f} at epoch {best_epoch}')\n",
        "\n",
        "    # load best model weights\n",
        "    model.load_state_dict(best_model_wts)\n",
        "\n",
        "    return model, training_curves"
      ],
      "metadata": {
        "id": "HRR_nA2ofl8t"
      },
      "execution_count": 15,
      "outputs": []
    },
    {
      "cell_type": "code",
      "source": [
        "# We define our predict function here so that we can run some predictions in the same cell as our training!\n",
        "def predict(model, word_dictionary, word_list, input_sentence, max_length = 20):\n",
        "    output_sentence = input_sentence + \" \"\n",
        "    tensor = create_input_tensor(input_sentence, word_dictionary)\n",
        "    hidden = model.initHidden()\n",
        "    current_input_sequence = tensor.to(device)\n",
        "    input = None\n",
        "\n",
        "    for i in range(current_input_sequence.size(0)):\n",
        "        current_hidden = (hidden[0].to(device), hidden[1].to(device))\n",
        "        output, hidden = model(current_input_sequence[i], current_hidden)\n",
        "\n",
        "    topv, topi = output.topk(1)\n",
        "    topi = topi[0][0]\n",
        "    if topi ==  len(word_dictionary):\n",
        "        topv, topi = output.topk(2)\n",
        "        topi = topi[0][1]\n",
        "    word = word_list[topi]\n",
        "    output_sentence += word\n",
        "    output_sentence += \" \"\n",
        "    input = create_input_tensor(word, word_dictionary)\n",
        "\n",
        "    for i in range(len(input_sentence.split(\" \")), max_length):\n",
        "        current_hidden = (hidden[0].to(device), hidden[1].to(device))\n",
        "        current_input = input[0].to(device)\n",
        "        output, hidden = model(current_input, current_hidden)\n",
        "        topv, topi = output.topk(1)\n",
        "        topi = topi[0][0]\n",
        "        if topi == len(word_dictionary):\n",
        "            # print(\"Hit the EOS\")\n",
        "            break\n",
        "        word = word_list[topi]\n",
        "        output_sentence += word\n",
        "        output_sentence += \" \"\n",
        "        input = create_input_tensor(word, word_dictionary)\n",
        "    return output_sentence"
      ],
      "metadata": {
        "id": "h35LR8siENSg"
      },
      "execution_count": 16,
      "outputs": []
    },
    {
      "cell_type": "code",
      "source": [
        "# TODO: Fill in the necessary code to execute the training function\n",
        "\"\"\"\n",
        "Your Code Below:\n",
        "\"\"\"\n",
        "# criterion = nn.CrossEntropyLoss() # CrossEntropyLoss for classification!\n",
        "# optimizer = torch.optim.Adam(word_rnn.parameters(), lr=learning_rate)\n",
        "# scheduler = torch.optim.lr_scheduler.ExponentialLR(optimizer, gamma=0.95)\n",
        "\n",
        "learning_rate = 0.001\n",
        "criterion = nn.CrossEntropyLoss()\n",
        "optimizer = torch.optim.Adam(lstm.parameters(), lr=learning_rate, weight_decay=1e-5)  # Added weight decay\n",
        "scheduler = torch.optim.lr_scheduler.ExponentialLR(optimizer, gamma=0.95)\n",
        "num_epochs = 10  # Start with a small number of epochs to test the training process\n",
        "\n",
        "lstm, training_curves = train_lstm(lstm, dataloaders, dataset_sizes,\n",
        "                                     criterion, optimizer, scheduler, num_epochs=num_epochs)"
      ],
      "metadata": {
        "id": "xzqzmUwL8Chj",
        "colab": {
          "base_uri": "https://localhost:8080/"
        },
        "outputId": "f07ce95f-3d08-45a9-df68-ff483a4995de"
      },
      "execution_count": 17,
      "outputs": [
        {
          "output_type": "stream",
          "name": "stdout",
          "text": [
            "\n",
            "Epoch 1/10\n",
            "----------\n",
            "train Loss: 5.9836\n",
            "val   Loss: 5.7681\n",
            "test  Loss: 5.7678\n",
            "\n",
            "Epoch 2/10\n",
            "----------\n",
            "train Loss: 5.0938\n",
            "val   Loss: 5.8739\n",
            "test  Loss: 5.8587\n",
            "\n",
            "Epoch 3/10\n",
            "----------\n",
            "train Loss: 4.7454\n",
            "val   Loss: 6.2290\n",
            "test  Loss: 6.1876\n",
            "\n",
            "Epoch 4/10\n",
            "----------\n",
            "train Loss: 4.4018\n",
            "val   Loss: 6.3630\n",
            "test  Loss: 6.2886\n",
            "\n",
            "Epoch 5/10\n",
            "----------\n",
            "train Loss: 4.0804\n",
            "val   Loss: 6.5837\n",
            "test  Loss: 6.4939\n",
            "\n",
            "Epoch 6/10\n",
            "----------\n",
            "train Loss: 3.7861\n",
            "val   Loss: 6.5892\n",
            "test  Loss: 6.5109\n",
            "\n",
            "Epoch 7/10\n",
            "----------\n",
            "train Loss: 3.5287\n",
            "val   Loss: 6.5412\n",
            "test  Loss: 6.4678\n",
            "\n",
            "Epoch 8/10\n",
            "----------\n",
            "train Loss: 3.2778\n",
            "val   Loss: 6.6272\n",
            "test  Loss: 6.5528\n",
            "\n",
            "Epoch 9/10\n",
            "----------\n",
            "train Loss: 3.0469\n",
            "val   Loss: 6.7106\n",
            "test  Loss: 6.6446\n",
            "\n",
            "Epoch 10/10\n",
            "----------\n",
            "train Loss: 2.8226\n",
            "val   Loss: 6.7971\n",
            "test  Loss: 6.7323\n",
            "\n",
            "Training complete in 2m 33s\n",
            "Best val Loss: 2.822582 at epoch 9\n"
          ]
        }
      ]
    },
    {
      "cell_type": "code",
      "source": [
        "print(predict(lstm, english_dictionary, english_list, \"what is\"))\n",
        "print(predict(lstm, english_dictionary, english_list, \"my name\"))\n",
        "print(predict(lstm, english_dictionary, english_list, \"how are\"))\n",
        "print(predict(lstm, english_dictionary, english_list, \"choose\"))"
      ],
      "metadata": {
        "id": "tLLI1jM45lQu",
        "colab": {
          "base_uri": "https://localhost:8080/"
        },
        "outputId": "5b34b39f-7288-4822-942a-f41cb76742a2"
      },
      "execution_count": 18,
      "outputs": [
        {
          "output_type": "stream",
          "name": "stdout",
          "text": [
            "what is be a diet \n",
            "my name is a orbit years girl \n",
            "how are you you \n",
            "choose is hungry \n"
          ]
        }
      ]
    },
    {
      "cell_type": "markdown",
      "source": [
        "### Visualizing Results\n",
        "\n",
        "Take a look at the training curves - does your model overfit to your training data? If so, why do you think that may be? Enter your explanation in the cell below."
      ],
      "metadata": {
        "id": "Diwgt3Fix2zg"
      }
    },
    {
      "cell_type": "markdown",
      "source": [
        "Based on the training curves and results above, it appears that the model is indeed overfitting to the training data. Overfitting is indicated by the model performing significantly better on the training dataset compared to the validation and test datasets. This is evident from the consistently decreasing training loss, alongside increasing (or at best, not significantly improving) validation and test losses as the epochs progress.\n",
        "\n",
        "Several factors can contribute to overfitting in this scenario:\n",
        "\n",
        "1.  **Complex Model for Limited Data**: If the model's complexity (number of parameters, depth, etc.) is too high relative to the size of the training data, it can easily memorize the training data rather than learning to generalize. This seems likely given the relatively small dataset size used for training (1000 sentences).\n",
        "    \n",
        "2.  **Insufficient Regularization**: The model might lack sufficient regularization techniques like dropout, L1/L2 regularization, or batch normalization, which help prevent overfitting by penalizing complex models.\n",
        "    \n",
        "3.  **Imbalanced or Biased Dataset**: If the training data isn't representative of the general problem space or is too homogeneous, the model might overfit to the specific patterns seen in the training data, failing to generalize well to unseen data.\n",
        "    \n",
        "4.  **Training for Too Many Epochs**: Training for too many epochs, especially without early stopping or adequate validation checks, can lead to a model that is increasingly tailored to the training data.\n",
        "    \n",
        "5.  **Inadequate Learning Rate and Optimizer Settings**: Sometimes, the choice of learning rate and optimizer can affect overfitting. A learning rate that's too high might cause the model to converge too quickly to a suboptimal solution.\n",
        "    \n",
        "6.  **Lack of Data Augmentation**: In NLP, techniques like word embeddings, synonyms replacement, or sentence restructuring can augment the dataset, providing more varied examples for training. This might be lacking here.\n",
        "    \n",
        "\n",
        "To address overfitting, consider the following strategies:\n",
        "\n",
        "*   Increase dataset size or use data augmentation techniques.\n",
        "*   Introduce regularization methods like dropout in the LSTM layers.\n",
        "*   Implement early stopping based on validation loss.\n",
        "*   Experiment with different learning rates or optimizers.\n",
        "*   Simplify the model architecture if it's too complex for the given data.\n",
        "*   Ensure the dataset is well-balanced and representative.\n",
        "\n",
        "Improving the model's ability to generalize to unseen data is crucial for achieving better performance on real-world tasks."
      ],
      "metadata": {
        "id": "ejU7W0o5wEIk"
      }
    },
    {
      "cell_type": "code",
      "source": [
        "def plot_training_curves(training_curves,\n",
        "                         phases=['train', 'val', 'test'],\n",
        "                         metrics=['loss']):\n",
        "    epochs = list(range(len(training_curves['train_loss'])))\n",
        "    for metric in metrics:\n",
        "        plt.figure()\n",
        "        plt.title(f'Training curves - {metric}')\n",
        "        for phase in phases:\n",
        "            key = phase+'_'+metric\n",
        "            if key in training_curves:\n",
        "                plt.plot(epochs, training_curves[key])\n",
        "        plt.xlabel('epoch')\n",
        "        plt.legend(labels=phases)"
      ],
      "metadata": {
        "id": "GEWXj81iCrvE"
      },
      "execution_count": 19,
      "outputs": []
    },
    {
      "cell_type": "code",
      "source": [
        "plot_training_curves(training_curves, phases=['train', 'val', 'test'])"
      ],
      "metadata": {
        "id": "BgaR32cNCxUC",
        "colab": {
          "base_uri": "https://localhost:8080/",
          "height": 472
        },
        "outputId": "1c6d710f-2514-420e-bbd7-14a1ae6b3375"
      },
      "execution_count": 20,
      "outputs": [
        {
          "output_type": "display_data",
          "data": {
            "text/plain": [
              "<Figure size 640x480 with 1 Axes>"
            ],
            "image/png": "[encoded data removed]"
          },
          "metadata": {}
        }
      ]
    }
  ]
}